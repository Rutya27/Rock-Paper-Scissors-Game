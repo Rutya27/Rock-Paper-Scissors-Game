{
 "cells": [
  {
   "cell_type": "markdown",
   "id": "9ae4eb35",
   "metadata": {},
   "source": [
    "# Task:-5"
   ]
  },
  {
   "cell_type": "markdown",
   "id": "24aa776a",
   "metadata": {},
   "source": [
    "# Rock-Paper-Scissors Game:\n",
    "                                                 The Python Rock-Paper-Scissors Game is a simple interactive program where users play against the computer. it program where users play against the computer.it promotes the users to choose either rock,peper,scissors generates the ramdom choice for the computer,comperes the choice to determine the winner based on the game's rules (rock beats scissors,scissors beats paper,paper beats rock)and display the result(win,lose,tie)to the user.The game provides a fun and engaging way for user to test their luck and decision-making skills. "
   ]
  },
  {
   "cell_type": "code",
   "execution_count": 1,
   "id": "4067f99f",
   "metadata": {},
   "outputs": [
    {
     "name": "stdout",
     "output_type": "stream",
     "text": [
      "Enter your choice (rock, paper, scissors): rock\n",
      "\n",
      "You chose: rock\n",
      "Computer chose: rock\n",
      "Result: Tie\n",
      "\n",
      "Current Score - You: 0 | Computer: 0\n",
      "\n",
      "Do you want to play again? (yes/no): yes\n",
      "Enter your choice (rock, paper, scissors): paper\n",
      "\n",
      "You chose: paper\n",
      "Computer chose: scissors\n",
      "Result: Computer wins\n",
      "\n",
      "Current Score - You: 0 | Computer: 1\n",
      "\n",
      "Do you want to play again? (yes/no): no\n",
      "\n",
      "Final Score:\n",
      "You: 0 | Computer: 1\n",
      "Thanks for playing!\n"
     ]
    }
   ],
   "source": [
    "import random\n",
    "\n",
    "def determine_winner(user_choice, computer_choice):\n",
    "    if user_choice == computer_choice:\n",
    "        return \"Tie\"\n",
    "    elif user_choice == \"rock\":\n",
    "        return \"You win\" if computer_choice == \"scissors\" else \"Computer wins\"\n",
    "    elif user_choice == \"paper\":\n",
    "        return \"You win\" if computer_choice == \"rock\" else \"Computer wins\"\n",
    "    elif user_choice == \"scissors\":\n",
    "        return \"You win\" if computer_choice == \"paper\" else \"Computer wins\"\n",
    "    else:\n",
    "        return \"Invalid input\"\n",
    "\n",
    "def main():\n",
    "    user_score = 0\n",
    "    computer_score = 0\n",
    "\n",
    "    while True:\n",
    "        user_choice = input(\"Enter your choice (rock, paper, scissors): \").lower()\n",
    "        computer_choice = random.choice([\"rock\", \"paper\", \"scissors\"])\n",
    "\n",
    "        print(f\"\\nYou chose: {user_choice}\")\n",
    "        print(f\"Computer chose: {computer_choice}\")\n",
    "\n",
    "        result = determine_winner(user_choice, computer_choice)\n",
    "        print(f\"Result: {result}\")\n",
    "\n",
    "        if result == \"You win\":\n",
    "            user_score += 1\n",
    "        elif result == \"Computer wins\":\n",
    "            computer_score += 1\n",
    "\n",
    "        print(f\"\\nCurrent Score - You: {user_score} | Computer: {computer_score}\")\n",
    "\n",
    "        play_again = input(\"\\nDo you want to play again? (yes/no): \").lower()\n",
    "        if play_again != \"yes\":\n",
    "            print(\"\\nFinal Score:\")\n",
    "            print(f\"You: {user_score} | Computer: {computer_score}\")\n",
    "            print(\"Thanks for playing!\")\n",
    "            break\n",
    "\n",
    "if __name__ == \"__main__\":\n",
    "    main()\n"
   ]
  },
  {
   "cell_type": "code",
   "execution_count": null,
   "id": "0f270a00",
   "metadata": {},
   "outputs": [],
   "source": []
  }
 ],
 "metadata": {
  "kernelspec": {
   "display_name": "Python 3 (ipykernel)",
   "language": "python",
   "name": "python3"
  },
  "language_info": {
   "codemirror_mode": {
    "name": "ipython",
    "version": 3
   },
   "file_extension": ".py",
   "mimetype": "text/x-python",
   "name": "python",
   "nbconvert_exporter": "python",
   "pygments_lexer": "ipython3",
   "version": "3.11.4"
  }
 },
 "nbformat": 4,
 "nbformat_minor": 5
}
